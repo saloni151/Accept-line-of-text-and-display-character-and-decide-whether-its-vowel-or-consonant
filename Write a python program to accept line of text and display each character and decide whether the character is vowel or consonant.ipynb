{
 "cells": [
  {
   "cell_type": "code",
   "execution_count": 1,
   "id": "fd71cac7",
   "metadata": {},
   "outputs": [
    {
     "data": {
      "text/plain": [
       "'Write a python program to accept line of text and display each character and decide whether the character is vowel or consonant'"
      ]
     },
     "execution_count": 1,
     "metadata": {},
     "output_type": "execute_result"
    }
   ],
   "source": [
    "\"\"\"Write a python program to accept line of text and display each character and decide whether the character is vowel or consonant\"\"\""
   ]
  },
  {
   "cell_type": "code",
   "execution_count": 2,
   "id": "41108025",
   "metadata": {},
   "outputs": [
    {
     "name": "stdout",
     "output_type": "stream",
     "text": [
      "Enter the line of text:my name is saloni\n"
     ]
    }
   ],
   "source": [
    "line=input(\"Enter the line of text:\")"
   ]
  },
  {
   "cell_type": "code",
   "execution_count": 3,
   "id": "6327878e",
   "metadata": {},
   "outputs": [
    {
     "name": "stdout",
     "output_type": "stream",
     "text": [
      "m the character is consonant\n",
      "y the character is consonant\n",
      "There is space in the line\n",
      "n the character is consonant\n",
      "a the character is vowel\n",
      "m the character is consonant\n",
      "e the character is vowel\n",
      "There is space in the line\n",
      "i the character is vowel\n",
      "s the character is consonant\n",
      "There is space in the line\n",
      "s the character is consonant\n",
      "a the character is vowel\n",
      "l the character is consonant\n",
      "o the character is vowel\n",
      "n the character is consonant\n",
      "i the character is vowel\n"
     ]
    }
   ],
   "source": [
    "i=0\n",
    "lst=['a','e','i','o','u','A','E','I','O','U']\n",
    "while(i<len(line)):\n",
    "    if(line[i]==\" \"):\n",
    "        print(\"There is space in the line\".format(line[i]))\n",
    "    else:\n",
    "        if(line[i] in lst):\n",
    "            print(\"{} the character is vowel\".format(line[i]))\n",
    "        if(line[i] not in lst):\n",
    "            print(\"{} the character is consonant\".format(line[i]))\n",
    "    i=i+1"
   ]
  },
  {
   "cell_type": "code",
   "execution_count": null,
   "id": "e646ace0",
   "metadata": {},
   "outputs": [],
   "source": []
  },
  {
   "cell_type": "code",
   "execution_count": null,
   "id": "33095bf1",
   "metadata": {},
   "outputs": [],
   "source": []
  },
  {
   "cell_type": "code",
   "execution_count": null,
   "id": "62217cf0",
   "metadata": {},
   "outputs": [],
   "source": []
  },
  {
   "cell_type": "code",
   "execution_count": null,
   "id": "aadf55fe",
   "metadata": {},
   "outputs": [],
   "source": []
  },
  {
   "cell_type": "code",
   "execution_count": null,
   "id": "440c2320",
   "metadata": {},
   "outputs": [],
   "source": []
  },
  {
   "cell_type": "code",
   "execution_count": null,
   "id": "35f9ba95",
   "metadata": {},
   "outputs": [],
   "source": []
  }
 ],
 "metadata": {
  "kernelspec": {
   "display_name": "Python 3 (ipykernel)",
   "language": "python",
   "name": "python3"
  },
  "language_info": {
   "codemirror_mode": {
    "name": "ipython",
    "version": 3
   },
   "file_extension": ".py",
   "mimetype": "text/x-python",
   "name": "python",
   "nbconvert_exporter": "python",
   "pygments_lexer": "ipython3",
   "version": "3.10.9"
  }
 },
 "nbformat": 4,
 "nbformat_minor": 5
}
